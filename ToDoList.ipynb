{
 "cells": [
  {
   "cell_type": "code",
   "execution_count": 9,
   "id": "c3707807",
   "metadata": {},
   "outputs": [
    {
     "name": "stdout",
     "output_type": "stream",
     "text": [
      "\n",
      "Menu:\n",
      "1. Add Task\n",
      "2. Remove Task\n",
      "3. Display Task\n",
      "4. Exit\n",
      "Enter your choice: 1\n",
      "Enter task: complete hw\n",
      "\n",
      "Menu:\n",
      "1. Add Task\n",
      "2. Remove Task\n",
      "3. Display Task\n",
      "4. Exit\n",
      "Enter your choice: 2\n",
      "Enter task to remove: hw\n",
      "Task not found!\n",
      "\n",
      "Menu:\n",
      "1. Add Task\n",
      "2. Remove Task\n",
      "3. Display Task\n",
      "4. Exit\n",
      "Enter your choice: 3\n",
      "Tasks: \n",
      "1.complete hw\n",
      "\n",
      "Menu:\n",
      "1. Add Task\n",
      "2. Remove Task\n",
      "3. Display Task\n",
      "4. Exit\n",
      "Enter your choice: 4\n",
      "Exiting...\n"
     ]
    }
   ],
   "source": [
    "#to do list\n",
    "class ToDoList:\n",
    "    def __init__(self):\n",
    "        self.tasks=[]\n",
    "        \n",
    "    def add_task(self,task):\n",
    "        self.tasks.append(task)\n",
    "        \n",
    "    def remove_task(self,task):\n",
    "        if task in self.tasks:\n",
    "            self.tasks.remove(task)\n",
    "        else:\n",
    "            print(\"Task not found!\")\n",
    "            \n",
    "    def display_tasks(self):\n",
    "        print(\"Tasks: \")\n",
    "        for index, task in enumerate(self.tasks, start=1):\n",
    "            print(f\"{index}.{task}\")\n",
    "            \n",
    "def main():\n",
    "    todo_list= ToDoList()\n",
    "    \n",
    "    while True:\n",
    "        print(\"\\nMenu:\")\n",
    "        print(\"1. Add Task\")\n",
    "        print(\"2. Remove Task\")\n",
    "        print(\"3. Display Task\")\n",
    "        print(\"4. Exit\")\n",
    "        \n",
    "        choice = input(\"Enter your choice: \")\n",
    "        if choice==\"1\":\n",
    "            task=input(\"Enter task: \")\n",
    "            todo_list.add_task(task)\n",
    "        elif choice==\"2\":\n",
    "            task=input(\"Enter task to remove: \")\n",
    "            todo_list.remove_task(task)\n",
    "        elif choice==\"3\":\n",
    "            todo_list.display_tasks()\n",
    "        elif choice==\"4\":\n",
    "            print(\"Exiting...\")\n",
    "            break\n",
    "        else:\n",
    "            print(\"Invalid choice!\")\n",
    "            \n",
    "if __name__ == \"__main__\":\n",
    "    main()"
   ]
  },
  {
   "cell_type": "code",
   "execution_count": null,
   "id": "a04d1ee5",
   "metadata": {},
   "outputs": [],
   "source": []
  },
  {
   "cell_type": "code",
   "execution_count": null,
   "id": "fe8aa96d",
   "metadata": {},
   "outputs": [],
   "source": []
  }
 ],
 "metadata": {
  "kernelspec": {
   "display_name": "Python 3 (ipykernel)",
   "language": "python",
   "name": "python3"
  },
  "language_info": {
   "codemirror_mode": {
    "name": "ipython",
    "version": 3
   },
   "file_extension": ".py",
   "mimetype": "text/x-python",
   "name": "python",
   "nbconvert_exporter": "python",
   "pygments_lexer": "ipython3",
   "version": "3.9.12"
  }
 },
 "nbformat": 4,
 "nbformat_minor": 5
}
